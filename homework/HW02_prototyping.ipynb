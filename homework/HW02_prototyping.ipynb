{
 "cells": [
  {
   "cell_type": "code",
   "execution_count": 58,
   "metadata": {},
   "outputs": [],
   "source": [
    "import DBConnection\n",
    "import pandas as pd\n"
   ]
  },
  {
   "cell_type": "code",
   "execution_count": 59,
   "metadata": {},
   "outputs": [],
   "source": [
    "join_query = \"\"\"\n",
    "    SELECT -- Keys --\n",
    "           i.order_item_number,\n",
    "           i.order_line_number,\n",
    "           o.order_number,\n",
    "           c.customer_number,\n",
    "           p.product_code,\n",
    "           e.office_code,\n",
    "           e.employee_number,\n",
    "           -- Name change because of ambiguity of reports_to \n",
    "           -- in context of order_items table\n",
    "           CAST(e.reports_to AS NUMERIC(10,2)) AS employee_boss,\n",
    "           o.order_date,\n",
    "           o.required_date,\n",
    "           o.shipped_date,\n",
    "           -- Measures --\n",
    "           i.quantity_ordered,\n",
    "           i.price_each,\n",
    "           -- Name change because of ambiguity of credit_limit \n",
    "           -- in context of order_items table\n",
    "           c.credit_limit AS customer_credit_limit,\n",
    "           p.quantity_in_stock,\n",
    "           CAST(p.buy_price AS NUMERIC(10,2)),\n",
    "           p._m_s_r_p\n",
    "    FROM orders AS o\n",
    "    INNER JOIN order_items AS i\n",
    "        USING(order_number)\n",
    "    INNER JOIN customers AS c\n",
    "        USING(customer_number)\n",
    "    INNER JOIN employees AS e\n",
    "        ON sales_rep_employee_number = employee_number\n",
    "    -- This table has no measures, so the join is\n",
    "    -- unnecessary\n",
    "    -- INNER JOIN offices AS f\n",
    "    --    USING(office_code)\n",
    "    INNER JOIN products as p\n",
    "        USING(product_code);\n",
    "\"\"\"\n",
    "\n",
    "select_employees_query = \"\"\"\n",
    "    SELECT employee_number,\n",
    "            last_name,\n",
    "            first_name,\n",
    "            job_title\n",
    "    FROM employees;\n",
    "    \"\"\"\n",
    "\n",
    "select_offices_query = \"\"\"\n",
    "    SELECT office_code,\n",
    "            city,\n",
    "            state,\n",
    "            country,\n",
    "            office_location\n",
    "    FROM offices;\n",
    "    \"\"\"\n",
    "\n",
    "select_products_query = \"\"\"\n",
    "    SELECT product_code,\n",
    "          product_line,\n",
    "          product_name,\n",
    "          product_scale,\n",
    "          product_vendor\n",
    "    FROM products;\n",
    "    \"\"\"\n",
    "\n",
    "select_orders_query = \"\"\"\n",
    "    SELECT order_number,\n",
    "          status\n",
    "    FROM orders;\n",
    "    \"\"\"\n",
    "\n",
    "select_customers_query = \"\"\"\n",
    "    SELECT customer_number,\n",
    "        customer_name,\n",
    "        contact_first_name,\n",
    "        contact_last_name,\n",
    "        city,\n",
    "        state,\n",
    "        country,\n",
    "        customer_location\n",
    "    FROM customers;\n",
    "    \"\"\"\n",
    "\n",
    "select_dates_query = \"\"\"\n",
    "    SELECT order_date,\n",
    "        required_date,\n",
    "        shipped_date\n",
    "    FROM orders;\n",
    "    \"\"\""
   ]
  },
  {
   "cell_type": "code",
   "execution_count": 60,
   "metadata": {},
   "outputs": [],
   "source": [
    "def create_df(query, conn):\n",
    "    column_names, returned_rows = conn.select_query(query)\n",
    "    df = pd.DataFrame(returned_rows)\n",
    "    df.columns = column_names\n",
    "    return df\n"
   ]
  },
  {
   "cell_type": "code",
   "execution_count": 61,
   "metadata": {},
   "outputs": [],
   "source": [
    "def fix_measures_dt(measures_df):\n",
    "    for key in [\"order_date\",\n",
    "                \"required_date\",\n",
    "                \"shipped_date\",]:\n",
    "        measures_df[key] = (pd.to_datetime(measures_df[key])\n",
    "                           .apply(lambda x: x.strftime('%Y-%m-%d')\n",
    "                                  if not pd.isnull(x) else '0000-00-00'))"
   ]
  },
  {
   "cell_type": "code",
   "execution_count": 62,
   "metadata": {},
   "outputs": [],
   "source": [
    "# Transforms\n",
    "def create_derived_measures(measures_df):\n",
    "    measures_df['revenue'] = measures_df['quantity_ordered'] * measures_df['price_each']\n",
    "    measures_df['costs'] = measures_df['quantity_ordered'] * measures_df['buy_price']\n",
    "    measures_df['profits'] = measures_df['revenue'] - measures_df['costs']\n",
    "    measures_df['profit_per_item'] = measures_df['profits'] / measures_df['quantity_ordered']\n",
    "    measures_df['profit_margin'] = measures_df['profits'] / measures_df['revenue']\n",
    "\n",
    "    "
   ]
  },
  {
   "cell_type": "code",
   "execution_count": 63,
   "metadata": {},
   "outputs": [],
   "source": [
    "def load_table(conn, table_name, frame):\n",
    "    \"\"\"Load a dataframe into a specified table\"\"\"\n",
    "    # Build table\n",
    "    for index, row in frame.iterrows():\n",
    "        query_str, var_tuple = build_query(row, table_name, \"INSERT\")\n",
    "        #print(query_str)\n",
    "        conn.insert_query(query_str, var_tuple)\n",
    "\n",
    "def build_query(row, table, query_type):\n",
    "    \"\"\"Construct query from row for table\"\"\"\n",
    "    # Abstracted to allow for additon of UPDATE and SELECT later on\n",
    "    # if required\n",
    "    if query_type == \"INSERT\":\n",
    "        return build_insert_query(row, table)\n",
    "    else:\n",
    "        return \"\"\n",
    "\n",
    "def build_insert_query(row, table):\n",
    "    \"\"\"Construct insert query from row for table\"\"\"\n",
    "    query_columns = \"\"\n",
    "    variable_list = list()\n",
    "    for key in row.keys():\n",
    "        # Insert is columns then values, so construct as two strings\n",
    "        query_columns += f\"{key}, \"\n",
    "        # Use format value to handle value types in SQL\n",
    "        variable_list.append(row[key])\n",
    "    values = \"%s, \" * len(row.keys())\n",
    "    # Index to -2 to remove \", \" from last value\n",
    "    query = f\"INSERT INTO {table} ({query_columns[:-2]}) VALUES ({values[:-2]})\"\n",
    "    return query, variable_list\n"
   ]
  },
  {
   "cell_type": "code",
   "execution_count": 64,
   "metadata": {},
   "outputs": [],
   "source": [
    "def create_date_df(select_dates_query, conn_op_db):\n",
    "    raw_date_df = create_df(select_dates_query, conn_op_db)\n",
    "    date_series = pd.concat([raw_date_df['order_date'],\n",
    "                        raw_date_df['required_date'],\n",
    "                        raw_date_df['shipped_date']],axis=0)\n",
    "    date_df = pd.DataFrame(date_series.drop_duplicates())\n",
    "    date_df.columns = ['iso_date']\n",
    "    return date_df"
   ]
  },
  {
   "cell_type": "code",
   "execution_count": 65,
   "metadata": {},
   "outputs": [],
   "source": [
    "def transform_date_df(date_df):\n",
    "    date_df['year'] = pd.to_datetime(date_df.iso_date).dt.year\n",
    "    date_df['quarter'] = pd.to_datetime(date_df.iso_date).dt.quarter\n",
    "    date_df['month'] = pd.to_datetime(date_df.iso_date).dt.month\n",
    "    date_df['week'] = pd.to_datetime(date_df.iso_date).dt.week\n",
    "    date_df['day_of_year'] = pd.to_datetime(date_df.iso_date).dt.dayofyear\n",
    "    date_df['day_of_month'] = pd.to_datetime(date_df.iso_date).dt.day\n",
    "    date_df['day_of_week'] = pd.to_datetime(date_df.iso_date).dt.dayofweek\n",
    "    date_df['iso_date'] = (pd.to_datetime(date_df['iso_date'])\n",
    "                               .apply(lambda x: x.strftime('%Y-%m-%d')\n",
    "                                      if not pd.isnull(x) else '0000-00-00'))\n",
    "    date_df = date_df.where(pd.notnull(date_df), None)\n",
    "    date_df.reset_index(inplace=True, drop=True)\n",
    "    return date_df\n"
   ]
  },
  {
   "cell_type": "code",
   "execution_count": 66,
   "metadata": {},
   "outputs": [],
   "source": [
    "def build_date_dim(select_dates_query, conn_op_db,\n",
    "                   conn_star_db, table_name = 'dim_dates'):\n",
    "    date_df = create_date_df(select_dates_query, conn_op_db)\n",
    "    date_df = transform_date_df(date_df)\n",
    "    load_table(conn_star_db, table_name, date_df)\n",
    "    "
   ]
  },
  {
   "cell_type": "code",
   "execution_count": 67,
   "metadata": {},
   "outputs": [],
   "source": [
    "def build_dim_table(query, conn_op_db, conn_star_db, table):\n",
    "    df = create_df(query, conn_op_db)\n",
    "    load_table(conn_star_db, table, df)\n",
    "    "
   ]
  },
  {
   "cell_type": "code",
   "execution_count": 68,
   "metadata": {},
   "outputs": [],
   "source": [
    "def build_measures_table(join_query, conn_op_db, conn_star_db, table='fact_order_items'):\n",
    "    measures_df = create_df(join_query, conn_op_db)\n",
    "    fix_measures_dt(measures_df)\n",
    "    create_derived_measures(measures_df)\n",
    "    load_table(conn_star_db, table, measures_df)"
   ]
  },
  {
   "cell_type": "code",
   "execution_count": 69,
   "metadata": {},
   "outputs": [],
   "source": [
    "conn_op_db = DBConnection.DBConnection(dbname=\"company_db\")\n",
    "conn_star_db = DBConnection.DBConnection(dbname=\"star_db\")\n"
   ]
  },
  {
   "cell_type": "code",
   "execution_count": 70,
   "metadata": {},
   "outputs": [],
   "source": [
    "build_dim_table(select_employees_query, conn_op_db, conn_star_db, 'dim_employees')\n",
    "build_dim_table(select_offices_query, conn_op_db, conn_star_db, 'dim_offices')\n",
    "build_dim_table(select_products_query, conn_op_db, conn_star_db, 'dim_products')\n",
    "build_dim_table(select_orders_query, conn_op_db, conn_star_db, 'dim_orders')\n",
    "build_dim_table(select_customers_query, conn_op_db, conn_star_db, 'dim_customers')\n",
    "\n",
    "build_date_dim(select_dates_query, conn_op_db, conn_star_db)\n",
    "build_measures_table(join_query, conn_op_db, conn_star_db)\n"
   ]
  },
  {
   "cell_type": "code",
   "execution_count": 71,
   "metadata": {},
   "outputs": [],
   "source": [
    "conn_op_db.disconnect(True)\n",
    "conn_star_db.disconnect(True)"
   ]
  }
 ],
 "metadata": {
  "kernelspec": {
   "display_name": "Python 3",
   "language": "python",
   "name": "python3"
  },
  "language_info": {
   "codemirror_mode": {
    "name": "ipython",
    "version": 3
   },
   "file_extension": ".py",
   "mimetype": "text/x-python",
   "name": "python",
   "nbconvert_exporter": "python",
   "pygments_lexer": "ipython3",
   "version": "3.7.3"
  }
 },
 "nbformat": 4,
 "nbformat_minor": 2
}
