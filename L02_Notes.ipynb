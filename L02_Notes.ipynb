{
 "cells": [
  {
   "cell_type": "markdown",
   "metadata": {},
   "source": [
    "---\n",
    "title: \"Data Warehouses\"\n",
    "author: Nandan Rao\n",
    "date: September, 2019\n",
    "\n",
    "---\n"
   ]
  },
  {
   "cell_type": "markdown",
   "metadata": {},
   "source": [
    "## Outline\n",
    "1. Introduction to Analytics database\n",
    "2. Little exercise\n",
    "3. More lecturing\n",
    "4. Homework review"
   ]
  },
  {
   "cell_type": "markdown",
   "metadata": {},
   "source": [
    "## Normalized Shmormalized\n",
    "\n",
    "It's worth reviewing _why_ we wanted normalization. We saw that normalization:\n",
    "\n",
    "1. Saved space\n",
    "2. Made updates faster\n",
    "3. (This made ACID easier)\n",
    "\n",
    "%fig01\n",
    "\n",
    "In analytics, we want to _read_ the data and read _lots_ of data.\n",
    "\n",
    "It should be clear that this is an entirely different paradigm than that of the operational database we saw last week.\n",
    "\n",
    "Space is cheap.\n",
    "\n",
    "What if we aren't updating our data in the same way we were in an operational database?\n",
    "\n",
    "In analytics, we want to _read_ the data and read _lots_ of data.\n",
    "\n",
    "It should be clear that this is an entirely different paradigm than that of the operational database we saw last week.\n",
    "\n",
    "%fig02"
   ]
  },
  {
   "cell_type": "markdown",
   "metadata": {},
   "source": [
    "## Operational vs Analytics (OLTP vs OLAP)\n",
    "\n",
    "**Operational:** Many small reads and many updates from thousands of users who are interested only in \"their\" rows. Data integrity, consistency, is important because the rest of the software relies on it.\n",
    "\n",
    "**Analytics**: Few users, rarely writing (batch updates?), making _giant_ read queries that might span _all_ the rows, usually making aggregations. Importance is speed of reads and flexibility to write any needed query."
   ]
  },
  {
   "cell_type": "markdown",
   "metadata": {},
   "source": [
    "## An Analytic Query\n",
    "\n",
    "Let's consider our ecommerce database of classic models. Here's a simple question we might want to ask:\n",
    "\n",
    "What were our profits per month?\n",
    "\n",
    "What was the most profitable office?\n",
    "\n",
    "Let's design the simplest table to answer these questions.\n",
    "\n",
    "%fig03\n",
    "\n",
    "Leads to performance versus flexibility tradeoffs."
   ]
  },
  {
   "cell_type": "markdown",
   "metadata": {},
   "source": [
    "## Star Schema\n",
    "\n",
    "The star schema will consist of two main parts:\n",
    "\n",
    "1. Measure (center of the star)\n",
    "2. Dimensions (the points of the star)\n",
    "\n",
    "%fig04\n"
   ]
  },
  {
   "cell_type": "markdown",
   "metadata": {},
   "source": [
    "## Measures / Fact Tables\n",
    "\n",
    "These are the things we want to \"measure,\" and generally correspond one-to-one to a business process, often a \"transaction\" of some sort.\n",
    "\n",
    "We think of these being big N! Many rows of the measure and we want to aggregate them.\n",
    "\n",
    "Because we aggregate them, we usually think of these being continuous variables, preferably that are additive.\n",
    "\n",
    "Grain! (Event sourcing!)"
   ]
  },
  {
   "cell_type": "markdown",
   "metadata": {},
   "source": [
    "## Dimension Tables\n",
    "\n",
    "How do we aggregate the facts? We aggregate them by _dimensions_.\n",
    "\n",
    "Dimension tables usually consist of the discrete variables by which we want to aggregate our measures to ask different questions.\n"
   ]
  },
  {
   "cell_type": "markdown",
   "metadata": {},
   "source": [
    "## Star Schema\n",
    "\n",
    "(example and exercise)"
   ]
  },
  {
   "cell_type": "markdown",
   "metadata": {},
   "source": [
    "## Snowflaking\n",
    "\n",
    "- Normalization - we could normalize the dimension tables.\n",
    "- Generally an anti-pattern!\n",
    "- Depends on the use case."
   ]
  },
  {
   "cell_type": "markdown",
   "metadata": {},
   "source": [
    "## Big Data?\n",
    "\n",
    "What happens when our data gets really big?\n",
    "\n",
    "This further drives the design differences between operational and analytics databases."
   ]
  },
  {
   "cell_type": "markdown",
   "metadata": {},
   "source": [
    "## Sharding\n",
    "\n",
    "How do we deal with more data in a traditional, operational, SQL database?\n",
    "\n",
    "We \"partition\" the data into little mini tables, and put each mini table on a different computer.\n",
    "\n",
    "This is called sharding.\n",
    "\n",
    "(draw it out)"
   ]
  },
  {
   "cell_type": "markdown",
   "metadata": {},
   "source": [
    "## Sharding\n",
    "\n",
    "Sharding in operational databases is optimized, as would be expected, for concurrency. Many users want a small amount of data, so you try and put all the data that would belong to one user in one place (partition/shard).\n",
    "\n",
    "If we shard by something like \"primary key\", this makes the architecture very simple.\n",
    "\n",
    "(example)"
   ]
  },
  {
   "cell_type": "markdown",
   "metadata": {},
   "source": [
    "## Parallelism\n",
    "\n",
    "In operational databases, multiple cores in a CPU are usually used to handle concurrency -- we are dealing with thousands of small requests at a time. Thus, devoting multiple cores of a CPU to a single request makes no sense, better to just devote different cores to different requests!\n",
    "\n",
    "If you are dealing with one or two large requests at a time, you probably want all your cores working on that one request!"
   ]
  },
  {
   "cell_type": "markdown",
   "metadata": {},
   "source": [
    "## Columnar storage\n",
    "\n",
    "If you remember the example on the first day, you should remember that _physical location_ of the data matters a lot.\n",
    "\n",
    "This was even more true with sharded/distributed systems, as we saw, but it's also true on the disk itself.\n",
    "\n",
    "Organizing data by rows makes sense when you often read/update/write single rows. But in analytics, we often perform large aggregations across entire columns! We care less about individuals, we care about aggregates.\n",
    "\n",
    "We can write our data down by column, instead!"
   ]
  },
  {
   "cell_type": "markdown",
   "metadata": {},
   "source": [
    "## Redshift\n",
    "\n",
    "AWS Redshift is a popular data warehouse tool that embodies these changes we talked about.\n",
    "\n",
    "Redshift is not open source :(. _But_ it is a very popular, hosted solution.\n",
    "\n",
    "Redshift is basically: Postgres + Columnar + Parallel."
   ]
  },
  {
   "cell_type": "markdown",
   "metadata": {},
   "source": [
    "## ETL\n",
    "\n",
    "So now we have our data in a beautiful data warehouse. It has a schema, it's hyper optimized, it's columnar and distributed.\n",
    "\n",
    "But how do you get your data from where it lives to where you will query it (data warehouse)?\n",
    "\n",
    "This process is referred to as ETL: Extract, Transform, and Load."
   ]
  },
  {
   "cell_type": "markdown",
   "metadata": {},
   "source": [
    "## ETL\n",
    "\n",
    "ETL processes are basically slow. The idea, then, is that once \"loaded\" the data is some faster to query than where it was originally."
   ]
  },
  {
   "cell_type": "markdown",
   "metadata": {},
   "source": [
    "## Where does your data come from?\n",
    "\n",
    "Where do you extract from?\n",
    "\n",
    "Traditionally, this was simply your operational database. Contemporarily, we have data all over the place:\n",
    "\n",
    "- Many different operational systems (POS system, customer-facing website, employee systems, shipping and partner systems, etc.)\n",
    "- Logs, logs, logs!\n",
    "- Marketing data.\n",
    "- Sales data (calls, contacts, attempts, responses, etc.)\n",
    "- Accounting data.\n"
   ]
  },
  {
   "cell_type": "markdown",
   "metadata": {},
   "source": [
    "## Many sources, many heterogeneity\n",
    "\n",
    "Data comes from many places, in many formats. How do we make queries or ask questions that span the entire business?\n",
    "\n",
    "This is basically what ETL processes seek to solve."
   ]
  },
  {
   "cell_type": "markdown",
   "metadata": {},
   "source": [
    "## Stepping Back\n",
    "\n",
    "Like everything in this field, there is a lot of terminology used differently by a lot of people. The term \"Data Warehouse\" will be used in different ways by different people.\n",
    "\n",
    "However, if we think of them in the \"dimensional modelling\" paradigm, data warehouses very much strike a balance between being optimized for certain queries and being flexible, but they are not _extremely_ flexible by any means."
   ]
  },
  {
   "cell_type": "markdown",
   "metadata": {},
   "source": [
    "## One lake, many houses\n",
    "\n",
    "One solution will be to create a separate data warehouse for each need (team). This allows each team to work independently and create the warehouse needed, optimized for their types of queries.\n",
    "\n",
    "In this case, however, it can make sense to separate the \"E\" from the \"TL\" (slight abuse of terminology), by creating a \"data lake.\"\n",
    "\n",
    "A data lake is a place where all data in the entire organization goes to live, in raw format. It's not optimized for querying, it's optimized for dumping! Each warehouse, then, can pull the data they need and load it into their own warehouse."
   ]
  },
  {
   "cell_type": "markdown",
   "metadata": {},
   "source": [
    "## Data Lake\n",
    "\n",
    "Again, this term will be abused and used in different ways.\n",
    "\n",
    "For us, we will think of a data lake as a place where data is stored \"raw\", often in flat files (think csv or json files), in some sort of networked storage (more on that next week!)"
   ]
  }
 ],
 "metadata": {
  "kernelspec": {
   "display_name": "Python 3",
   "language": "python",
   "name": "python3"
  },
  "language_info": {
   "codemirror_mode": {
    "name": "ipython",
    "version": 3
   },
   "file_extension": ".py",
   "mimetype": "text/x-python",
   "name": "python",
   "nbconvert_exporter": "python",
   "pygments_lexer": "ipython3",
   "version": "3.7.3"
  }
 },
 "nbformat": 4,
 "nbformat_minor": 2
}
